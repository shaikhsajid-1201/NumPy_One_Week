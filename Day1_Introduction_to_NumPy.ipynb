{
 "cells": [
  {
   "cell_type": "markdown",
   "id": "3e3f9dd7-ad96-479e-80a9-b3c869f7792d",
   "metadata": {},
   "source": [
    "# Introduction to Numpy and Basic Array (Data Analysis only)"
   ]
  },
  {
   "cell_type": "markdown",
   "id": "84284d6a-e203-4c9f-a9c6-13ac49e74e93",
   "metadata": {},
   "source": [
    "## What is NumPy?  \n",
    "- Python library for numerical computing\n",
    "- Provides array, metrices, and mathematical functions\n",
    "- Mostly used in Data Analysis, Data Science and Machine Learning\n",
    "\n",
    "## Installing Numpy\n",
    "```python\n",
    "pip install numpy\n",
    "```"
   ]
  },
  {
   "cell_type": "markdown",
   "id": "ba5d29ff-60b9-421f-8ef0-a1d3b4f2ea1f",
   "metadata": {},
   "source": [
    "## Creating Array"
   ]
  },
  {
   "cell_type": "code",
   "execution_count": 34,
   "id": "3ea98fad-e41a-4a0e-a3c1-6e4a14709711",
   "metadata": {},
   "outputs": [],
   "source": [
    "# importing numpy with alias\n",
    "import numpy as np"
   ]
  },
  {
   "cell_type": "code",
   "execution_count": 35,
   "id": "23133944-2b77-49a1-b614-8a39798dbb05",
   "metadata": {},
   "outputs": [
    {
     "name": "stdout",
     "output_type": "stream",
     "text": [
      "1D array :  [1 2 3 4 5 6]\n"
     ]
    }
   ],
   "source": [
    "# creating 1D array \n",
    "arr1d = np.array([1,2,3,4,5,6])\n",
    "print(\"1D array : \", arr1d)"
   ]
  },
  {
   "cell_type": "code",
   "execution_count": 36,
   "id": "3e88e2e7-7ac5-4c93-b1ec-e1b021229502",
   "metadata": {},
   "outputs": [
    {
     "name": "stdout",
     "output_type": "stream",
     "text": [
      "2D array: \n",
      " [[1 2 3]\n",
      " [4 5 6]]\n"
     ]
    }
   ],
   "source": [
    "# creating 2D array\n",
    "arr2d = np.array([[1,2,3],[4,5,6]])\n",
    "print(\"2D array: \\n\", arr2d)"
   ]
  },
  {
   "cell_type": "code",
   "execution_count": 37,
   "id": "e2749813-23a8-4466-b2c3-cbf42d8a071e",
   "metadata": {},
   "outputs": [
    {
     "data": {
      "text/plain": [
       "array([[0., 0., 0.],\n",
       "       [0., 0., 0.]])"
      ]
     },
     "execution_count": 37,
     "metadata": {},
     "output_type": "execute_result"
    }
   ],
   "source": [
    "# creating array with zeros\n",
    "# zeros = np.zeros(10)             # 10 rows with zeros only\n",
    "zeros = np.zeros([2,3])          # 2 rows, 3 columns\n",
    "zeros"
   ]
  },
  {
   "cell_type": "code",
   "execution_count": 38,
   "id": "f219167c-e632-4227-81a7-b9cc5ef1404a",
   "metadata": {},
   "outputs": [
    {
     "data": {
      "text/plain": [
       "array([[1., 1.],\n",
       "       [1., 1.],\n",
       "       [1., 1.]])"
      ]
     },
     "execution_count": 38,
     "metadata": {},
     "output_type": "execute_result"
    }
   ],
   "source": [
    "# creating array with ones\n",
    "ones = np.ones([3,2])           # 3 rows, 2 columns\n",
    "ones"
   ]
  },
  {
   "cell_type": "code",
   "execution_count": 39,
   "id": "1844bdaa-c3c9-4322-a5a8-241e2fc57215",
   "metadata": {},
   "outputs": [
    {
     "data": {
      "text/plain": [
       "array([0, 1, 2, 3, 4, 5, 6, 7, 8, 9])"
      ]
     },
     "execution_count": 39,
     "metadata": {},
     "output_type": "execute_result"
    }
   ],
   "source": [
    "# creating array with range of numbers (1D Array)\n",
    "range_arr = np.arange(10)\n",
    "range_arr"
   ]
  },
  {
   "cell_type": "code",
   "execution_count": 40,
   "id": "29649a6f-5e4a-4094-ad82-1e226c72288b",
   "metadata": {},
   "outputs": [
    {
     "data": {
      "text/plain": [
       "array([[1, 2, 3],\n",
       "       [4, 5, 6]])"
      ]
     },
     "execution_count": 40,
     "metadata": {},
     "output_type": "execute_result"
    }
   ],
   "source": [
    "# creating array with range of numbers (2D Array)\n",
    "range_arr1 = np.arange(1, 4)\n",
    "range_arr2 = np.arange(4, 7)\n",
    "\n",
    "new_arr2D = np.vstack([range_arr1, range_arr2])\n",
    "new_arr2D"
   ]
  },
  {
   "cell_type": "code",
   "execution_count": 41,
   "id": "f5977908-ed63-49d8-ba32-5546ac5c9f3b",
   "metadata": {},
   "outputs": [
    {
     "data": {
      "text/plain": [
       "array([0.  , 0.25, 0.5 , 0.75, 1.  ])"
      ]
     },
     "execution_count": 41,
     "metadata": {},
     "output_type": "execute_result"
    }
   ],
   "source": [
    "# creating array with evenly spaced numbers\n",
    "linspace = np.linspace(0,1,5)                 # 5 numbers from 0 to 1\n",
    "linspace"
   ]
  },
  {
   "cell_type": "markdown",
   "id": "6caa8393-adc8-42a9-b35e-2d216cdd85ae",
   "metadata": {},
   "source": [
    "## Basic Operation"
   ]
  },
  {
   "cell_type": "code",
   "execution_count": 43,
   "id": "80eda56b-02e5-476b-b4d6-f4905b148b02",
   "metadata": {},
   "outputs": [
    {
     "data": {
      "text/plain": [
       "(6,)"
      ]
     },
     "execution_count": 43,
     "metadata": {},
     "output_type": "execute_result"
    }
   ],
   "source": [
    "arr1d.shape        # Returns 6 rows and 0 columns    "
   ]
  },
  {
   "cell_type": "code",
   "execution_count": 45,
   "id": "a9fae45e-6008-4b1c-8196-b908fb43491c",
   "metadata": {},
   "outputs": [
    {
     "data": {
      "text/plain": [
       "(2, 3)"
      ]
     },
     "execution_count": 45,
     "metadata": {},
     "output_type": "execute_result"
    }
   ],
   "source": [
    "arr2d.shape        # Returns 2 rows and 3 columns"
   ]
  },
  {
   "cell_type": "code",
   "execution_count": 47,
   "id": "5347fea6-f66f-4368-9742-9c7a7e189ea5",
   "metadata": {},
   "outputs": [
    {
     "data": {
      "text/plain": [
       "1"
      ]
     },
     "execution_count": 47,
     "metadata": {},
     "output_type": "execute_result"
    }
   ],
   "source": [
    "arr1d.ndim         # Returns dimension of the array"
   ]
  },
  {
   "cell_type": "code",
   "execution_count": 49,
   "id": "537be2a6-3573-4e59-87c9-a63630dc74a0",
   "metadata": {},
   "outputs": [
    {
     "data": {
      "text/plain": [
       "2"
      ]
     },
     "execution_count": 49,
     "metadata": {},
     "output_type": "execute_result"
    }
   ],
   "source": [
    "arr2d.ndim         # Returns dimension of the array"
   ]
  },
  {
   "cell_type": "code",
   "execution_count": 52,
   "id": "10100820-05c7-40b2-8dd9-8c143c268a1f",
   "metadata": {},
   "outputs": [
    {
     "data": {
      "text/plain": [
       "dtype('int32')"
      ]
     },
     "execution_count": 52,
     "metadata": {},
     "output_type": "execute_result"
    }
   ],
   "source": [
    "arr1d.dtype        # Returns datatype of the array"
   ]
  },
  {
   "cell_type": "markdown",
   "id": "1167c9b0-045c-4fc9-867d-66cf5a2eb772",
   "metadata": {},
   "source": [
    "## Indexing and Slicing"
   ]
  },
  {
   "cell_type": "code",
   "execution_count": 55,
   "id": "5ba77030-cf5b-47de-9b48-4bc155ebbcaf",
   "metadata": {},
   "outputs": [],
   "source": [
    "arr1d = np.array([1,2,3,4,5,6])\n",
    "arr2d = np.array([[1,2,3],[4,5,6]])"
   ]
  },
  {
   "cell_type": "code",
   "execution_count": 61,
   "id": "debdb237-2e79-4af9-9aef-76a975cacdc0",
   "metadata": {},
   "outputs": [
    {
     "data": {
      "text/plain": [
       "1"
      ]
     },
     "execution_count": 61,
     "metadata": {},
     "output_type": "execute_result"
    }
   ],
   "source": [
    "arr1d[0]          # 0 index returns a value from the array in 1D array"
   ]
  },
  {
   "cell_type": "code",
   "execution_count": 62,
   "id": "a2fda65b-93ca-4b52-83c2-473ccf35b329",
   "metadata": {},
   "outputs": [
    {
     "data": {
      "text/plain": [
       "array([1, 2, 3])"
      ]
     },
     "execution_count": 62,
     "metadata": {},
     "output_type": "execute_result"
    }
   ],
   "source": [
    "arr2d[0]          # 0 Returns 1st row from 2D array"
   ]
  },
  {
   "cell_type": "code",
   "execution_count": 64,
   "id": "494cb585-bc33-4392-ab3c-30dc9f9a2d19",
   "metadata": {},
   "outputs": [
    {
     "data": {
      "text/plain": [
       "6"
      ]
     },
     "execution_count": 64,
     "metadata": {},
     "output_type": "execute_result"
    }
   ],
   "source": [
    "# access specific value from 2D array\n",
    "arr2d[1][2]       # Return a value from 2nd row and 3rd element because in python 0 index means 1st position."
   ]
  },
  {
   "cell_type": "code",
   "execution_count": 67,
   "id": "ced42542-04af-493c-a8c2-a28449abd5c8",
   "metadata": {},
   "outputs": [
    {
     "data": {
      "text/plain": [
       "array([2, 3, 4])"
      ]
     },
     "execution_count": 67,
     "metadata": {},
     "output_type": "execute_result"
    }
   ],
   "source": [
    "# slicing (selecting multiple values from the array)\n",
    "arr1d[1:4]        # Starts from 1 index (2nd element) and go till 4th position (it starts from 1)."
   ]
  },
  {
   "cell_type": "code",
   "execution_count": 76,
   "id": "920cb930-0893-4551-bf48-c3eb0bfd4f8a",
   "metadata": {},
   "outputs": [
    {
     "data": {
      "text/plain": [
       "array([1, 2])"
      ]
     },
     "execution_count": 76,
     "metadata": {},
     "output_type": "execute_result"
    }
   ],
   "source": [
    "arr2d[0][0:2]"
   ]
  },
  {
   "cell_type": "code",
   "execution_count": 79,
   "id": "340ee1f0-eb03-4a43-ad45-b4a02f41ea18",
   "metadata": {},
   "outputs": [
    {
     "data": {
      "text/plain": [
       "array([[2, 3],\n",
       "       [5, 6]])"
      ]
     },
     "execution_count": 79,
     "metadata": {},
     "output_type": "execute_result"
    }
   ],
   "source": [
    "arr2d[:, 1:3]"
   ]
  },
  {
   "cell_type": "markdown",
   "id": "60887ee6-8274-4a08-b8ff-c9af2f5ac135",
   "metadata": {},
   "source": [
    "## Exercise:\n",
    "- Create a 3D array of shape (2, 2, 2) filled with ones.\n",
    "- Create an array with numbers from 5 to 15 using np.arange().\n",
    "- Print the shape, number of dimensions, and data type of your created arrays."
   ]
  },
  {
   "cell_type": "code",
   "execution_count": 89,
   "id": "35447ce3-a330-41ba-a040-2a33e87197af",
   "metadata": {},
   "outputs": [
    {
     "data": {
      "text/plain": [
       "array([[[1, 1],\n",
       "        [1, 1]],\n",
       "\n",
       "       [[1, 1],\n",
       "        [1, 1]]])"
      ]
     },
     "execution_count": 89,
     "metadata": {},
     "output_type": "execute_result"
    }
   ],
   "source": [
    "# Create a 3D array of shape (2, 2, 2) filled with ones.\n",
    "ones_3D = np.ones([2,2,2], dtype = np.int32)\n",
    "ones_3D"
   ]
  },
  {
   "cell_type": "code",
   "execution_count": 90,
   "id": "e96fd3b5-03d9-4e7a-8097-2e3ac1ee923d",
   "metadata": {},
   "outputs": [
    {
     "data": {
      "text/plain": [
       "array([ 5,  6,  7,  8,  9, 10, 11, 12, 13, 14])"
      ]
     },
     "execution_count": 90,
     "metadata": {},
     "output_type": "execute_result"
    }
   ],
   "source": [
    "# Create an array with numbers from 5 to 15 using np.arange().\n",
    "new_range_arr = np.arange(5, 15)\n",
    "new_range_arr"
   ]
  },
  {
   "cell_type": "code",
   "execution_count": 91,
   "id": "39f65724-381b-450d-ab83-a528d5db59a5",
   "metadata": {},
   "outputs": [
    {
     "name": "stdout",
     "output_type": "stream",
     "text": [
      "Shape : (2, 2, 2)\n",
      "Dimensions : 3\n",
      "DataType : int32\n"
     ]
    }
   ],
   "source": [
    "# Print the shape, number of dimensions, and data type of your created arrays.\n",
    "print(f\"Shape : {ones_3D.shape}\\nDimensions : {ones_3D.ndim}\\nDataType : {ones_3D.dtype}\")"
   ]
  },
  {
   "cell_type": "markdown",
   "id": "649a6ce3-26a2-4393-9f66-5675ebec394f",
   "metadata": {},
   "source": [
    "## Homework\n",
    "- Practice creating arrays and using attributes. Try out more slicing and indexing techniques."
   ]
  },
  {
   "cell_type": "code",
   "execution_count": null,
   "id": "c59a4d8d-1042-4c3a-9776-eddb33ac37a5",
   "metadata": {},
   "outputs": [],
   "source": []
  }
 ],
 "metadata": {
  "kernelspec": {
   "display_name": "Python 3 (ipykernel)",
   "language": "python",
   "name": "python3"
  },
  "language_info": {
   "codemirror_mode": {
    "name": "ipython",
    "version": 3
   },
   "file_extension": ".py",
   "mimetype": "text/x-python",
   "name": "python",
   "nbconvert_exporter": "python",
   "pygments_lexer": "ipython3",
   "version": "3.12.4"
  }
 },
 "nbformat": 4,
 "nbformat_minor": 5
}
